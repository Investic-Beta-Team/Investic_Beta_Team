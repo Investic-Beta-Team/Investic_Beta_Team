{
 "cells": [
  {
   "cell_type": "code",
   "execution_count": null,
   "metadata": {},
   "outputs": [],
   "source": [
    "import os, csv\n",
    "from dotenv import load_dotenv\n",
    "import pandas as pd\n",
    "import time\n",
    "\n",
    "from datetime import datetime\n",
    "import schedule\n",
    "import requests\n",
    "\n",
    "import calendar\n",
    "import pandas as pd\n",
    "import pandas_ta as ta\n",
    "import numpy as np\n",
    "\n",
    "load_dotenv()"
   ]
  },
  {
   "attachments": {},
   "cell_type": "markdown",
   "metadata": {},
   "source": [
    "### Set Environment"
   ]
  },
  {
   "cell_type": "code",
   "execution_count": null,
   "metadata": {},
   "outputs": [],
   "source": [
    "GLOBLEX_ID = os.getenv('GLOBLEX_ID')\n",
    "SETTRADE_APP_ID = os.getenv('SETTRADE_APP_ID')\n",
    "SETTRADE_APP_SECRET = os.getenv('SETTRADE_APP_SECRET')\n",
    "# GLOBLEX_ID, SETTRADE_APP_ID, SETTRADE_APP_SECRET\n",
    "\n",
    "LINE_TOKEN = os.getenv('LINE_TOKEN')\n",
    "LINE_URL = 'https://notify-api.line.me/api/notify'\n",
    "LINE_HEADERS = {'content-type':'application/x-www-form-urlencoded','Authorization':'Bearer ' + LINE_TOKEN }"
   ]
  },
  {
   "attachments": {},
   "cell_type": "markdown",
   "metadata": {},
   "source": [
    "### Prepare Data"
   ]
  },
  {
   "cell_type": "code",
   "execution_count": null,
   "metadata": {},
   "outputs": [],
   "source": [
    "def get_initial_bars(asset, tf): # params: asset = asset name, tf = timeframe such as 5m, 15m, 30m, 1h, 4h.\n",
    "    df = {}\n",
    "    # TODO\n",
    "    # download latest 200 or more bars.\n",
    "    # convert columns to open, high, low, close.\n",
    "    # Sort ascending datetime, latest is in last row.\n",
    "    # set index by datetime.\n",
    "    # return dataframe\n",
    "\n",
    "    \"\"\" example code\n",
    "    bars, _ = get_from_globex()\n",
    "    df = pd.DataFrame({\n",
    "        'timestamp': bars.index,\n",
    "        'open': bars['1. open'],\n",
    "        'high': bars['2. high'],\n",
    "        'low': bars['3. low'],\n",
    "        'close': bars['4. close'],\n",
    "        'volumn': bars['5. volume']\n",
    "    }) # convert alpha vantage data to use with strategy\n",
    "\n",
    "    df['timestamp'] = pd.to_datetime(df['timestamp'], unit='ms')\n",
    "    df = df.iloc[::-1] # reverse row\n",
    "    df.reset_index(drop=True, inplace=True)\n",
    "    \"\"\"\n",
    "\n",
    "    return df"
   ]
  },
  {
   "cell_type": "code",
   "execution_count": 2,
   "metadata": {},
   "outputs": [],
   "source": [
    "def get_latest_bars(df, asset, tf): # params: df=dataframe, asset=asset name, tf=timeframe such as 5m, 15m, 30m, 1h, 4h.\n",
    "    # TODO\n",
    "    # get latest 1 bar.\n",
    "    # convert columns to match with dataframe\n",
    "    # set index by datetime\n",
    "    # merge latest 1 bars to dataframe\n",
    "    # return dataframe\n",
    "\n",
    "    \"\"\" example code\n",
    "    bars, _ = get_from_globex()\n",
    "    incoming_df = pd.DataFrame({\n",
    "        'timestamp': bars.index,\n",
    "        'open': bars['1. open'],\n",
    "        'high': bars['2. high'],\n",
    "        'low': bars['3. low'],\n",
    "        'close': bars['4. close'],\n",
    "        'volumn': bars['5. volume']\n",
    "    }) # convert alpha vantage data to use with rsi strategy\n",
    "\n",
    "    incoming_df['timestamp'] = pd.to_datetime(incoming_df['timestamp'], unit='ms')\n",
    "     \n",
    "    if (incoming_df['timestamp'].iloc[0] != df['timestamp'].iloc[-1]):\n",
    "        df = df[:900].append(incoming_df.head(1), ignore_index = True)\n",
    "    \"\"\"\n",
    "    return df"
   ]
  },
  {
   "cell_type": "code",
   "execution_count": 3,
   "metadata": {},
   "outputs": [],
   "source": [
    "def notifyMsg(*msg): # notify line message\n",
    "    r = requests.post(LINE_URL, headers=LINE_HEADERS, data={'message': msg[0]})\n",
    "    print(r.text)"
   ]
  },
  {
   "attachments": {},
   "cell_type": "markdown",
   "metadata": {},
   "source": [
    "### Strategy"
   ]
  },
  {
   "cell_type": "code",
   "execution_count": null,
   "metadata": {},
   "outputs": [],
   "source": [
    "class TFEX_Bot:\n",
    "    def __init__(self, params):\n",
    "        self.client = None\n",
    "        self.asset = params['asset']\n",
    "        \n",
    "        self.order = {'action': None, 'open time': None, 'open': None, 'close time': None, \\\n",
    "                      'close': None, 'T/P': None, 'S/L': None,'result': None}\n",
    "        self.current_action = 'close'\n",
    "        \n",
    "        # TODO: create params for indicator\n",
    "        self.ema = params['ema']\n",
    "        self.rr = params['rr']\n",
    "        ###-------------------###\n",
    "        \n",
    "        self.lot_size = 0.01\n",
    "        self.order_id = 0\n",
    "        self.target = 10\n",
    "        self.round = params['round']\n",
    "        \n",
    "        self.df = None\n",
    "        \n",
    "    def reset_order(self):\n",
    "        self.order = {'action': None, 'open time': None, 'open': None, 'close time': None, \\\n",
    "                      'close': None, 'T/P': None, 'S/L': None,'result': None}\n",
    "        \n",
    "    def calLotSize(self, entry, exit):\n",
    "        # TODO: calculate lot size\n",
    "        # self.lot_size = abs(round(self.target / (((entry - exit) / self.pip ) * self.pip_value ) , 2))\n",
    "        # print(f'lot_size: {str(self.lot_size)}')\n",
    "        \n",
    "    def executeOrder(self, action, entry=0, exit=0, sl=0, tp=0):\n",
    "        # params: action=buy or sell, entry=entry price, exit=exit price, sl=stop loss, tp= take profit\n",
    "\n",
    "        # TODO\n",
    "        # create globex conection\n",
    "        # login globex and check conection\n",
    "        # if connection ok then execute order\n",
    "        # get successfully excute order response and notify to Line\n",
    "        # if order execution is success then set state to buy\n",
    "        # disconnect\n",
    "\n",
    "        \"\"\" example\n",
    "        self.client = GlobexClient(port=9999)\n",
    "\n",
    "        loginResponse = self.client.execute(loginCommand(userId=GLOBLEX_ID, password=))\n",
    "        logger.info(str(loginResponse)) \n",
    "\n",
    "        # check if user logged in correctly\n",
    "        if(loginResponse['status'] == False):\n",
    "            print('Login failed. Error code: {0}'.format(loginResponse['errorCode']))\n",
    "            \n",
    "        self.client.disconnect()\n",
    "        \"\"\"\n",
    "        \n",
    "    def do_strategy(self, bars): # bars=price dataframe\n",
    "        self.df = bars\n",
    "        strategy = ta.Strategy(\n",
    "            name = 'TFEX bot',\n",
    "            description = 'TFEX bot',\n",
    "            ta = [\n",
    "                {'kind': 'ema', 'length': self.ema}\n",
    "            ]\n",
    "        )\n",
    "        self.df.ta.strategy(strategy)\n",
    "    \n",
    "        row = self.df.tail(1).to_dict('records')[0] # latest bar\n",
    "        \n",
    "        if self.current_action == 'close' or self.order == {}: # wait for buy signal\n",
    "            if (row['EMA_'+str(self.ema)] < row['low']):\n",
    "                self.order['action'] = 'buy'\n",
    "                self.order['open time'] = row['timestamp']\n",
    "                self.order['open'] = row['open']\n",
    "                \n",
    "                self.order['S/L'] = row['low']- row['ATRr_'+str(self.atr)]\n",
    "                self.order['T/P'] = row['open'] + (self.rr * abs(row['open'] - self.order['S/L']))\n",
    "                self.current_action = 'buy'\n",
    "                notifyMsg(f\"Buy {self.pair} TFEX\\nprice: {str(self.order['open'])}\\nTP: {str(self.order['T/P'])}\\nSL: {str(self.order['S/L'])}\")\n",
    "                \n",
    "                self.calLotSize(self.order['open'], self.order['T/P'])\n",
    "                self.executeOrder('buy', entry=self.order['open'], exit=self.order['T/P'], sl=self.order['S/L'], tp=self.order['T/P'])\n",
    "\n",
    "        if (self.current_action == 'buy'): # wait for TP or SL\n",
    "            if (row['low'] <= self.order['S/L']):\n",
    "                self.order['result'] = 'S/L'\n",
    "                self.order['close time'] = row['timestamp']\n",
    "                self.order['close'] = self.order['S/L']\n",
    "                \n",
    "                self.current_action = 'close'\n",
    "                notifyMsg(f\"S/L Buy {self.pair} RSI_O2\\nprice: {self.order['close']}\")\n",
    "                self.executeOrder('sell', entry=self.order['open'], exit=self.order['T/P'], sl=self.order['S/L'], tp=self.order['T/P'])\n",
    "                self.reset_order()\n",
    "                \n",
    "            elif (row['high'] >= self.order['T/P']):\n",
    "                self.order['result'] = 'T/P'\n",
    "                self.order['close time'] = row['timestamp']\n",
    "                self.order['close'] = self.order['T/P']\n",
    "                \n",
    "                self.current_action = 'close'\n",
    "                notifyMsg(f\"T/P Buy {self.pair} RSI_O2\\nprice: {self.order['close']}\")\n",
    "                self.reset_order()\n"
   ]
  },
  {
   "attachments": {},
   "cell_type": "markdown",
   "metadata": {},
   "source": [
    "### Run Bot"
   ]
  },
  {
   "cell_type": "code",
   "execution_count": null,
   "metadata": {},
   "outputs": [],
   "source": [
    "tfex_bot = TFEX_Bot({\n",
    "    'pair': 'TFEX',\n",
    "    'ema': 100,\n",
    "    'pip': 0.0001,\n",
    "    'pip_value': 10,\n",
    "    'rr': 1.5,\n",
    "    'round': 5,\n",
    "})"
   ]
  },
  {
   "cell_type": "code",
   "execution_count": null,
   "metadata": {},
   "outputs": [],
   "source": [
    "tfex_init_bars = get_initial_bars('TFEX', tf='15min')"
   ]
  },
  {
   "cell_type": "code",
   "execution_count": null,
   "metadata": {},
   "outputs": [],
   "source": [
    "def get_realtime():\n",
    "    tfex_bars = get_latest_bars(tfex_init_bars, pair='TFEX', tf='15min')\n",
    "    tfex_bot.do_strategy(tfex_bars)\n",
    "    \n",
    "schedule.every(60 * 15).seconds.do(get_realtime) # every 15min"
   ]
  },
  {
   "cell_type": "code",
   "execution_count": null,
   "metadata": {},
   "outputs": [],
   "source": [
    "while True:\n",
    "    schedule.run_pending()\n",
    "    time.sleep(1)"
   ]
  },
  {
   "cell_type": "markdown",
   "metadata": {},
   "source": []
  }
 ],
 "metadata": {
  "kernelspec": {
   "display_name": "base",
   "language": "python",
   "name": "python3"
  },
  "language_info": {
   "codemirror_mode": {
    "name": "ipython",
    "version": 3
   },
   "file_extension": ".py",
   "mimetype": "text/x-python",
   "name": "python",
   "nbconvert_exporter": "python",
   "pygments_lexer": "ipython3",
   "version": "3.9.13"
  },
  "orig_nbformat": 4,
  "vscode": {
   "interpreter": {
    "hash": "3183d949fe1062080028b50eca9aef162d40591c149f15088158fa43c1908db3"
   }
  }
 },
 "nbformat": 4,
 "nbformat_minor": 2
}
